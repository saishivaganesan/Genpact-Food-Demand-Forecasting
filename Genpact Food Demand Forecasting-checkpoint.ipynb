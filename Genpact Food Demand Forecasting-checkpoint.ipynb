{
 "cells": [
  {
   "cell_type": "markdown",
   "metadata": {},
   "source": [
    "## Genpact Food Demand Forecasting Challenge\n",
    "\n",
    "Help a food delivery business in forecasting the food demand for the upcoming weeks so that we can plan the stock of raw materials. A perfect challenge to test your time series knowledge.\n",
    "\n",
    "Demand forecasting is a key component to every growing online business. Without proper demand forecasting processes in place, it can be nearly impossible to have the right amount of stock on hand at any given time. A food delivery service has to deal with a lot of perishable raw materials which makes it all the more important for such a company to accurately forecast daily and weekly demand.\n",
    " \n",
    "Too much inventory in the warehouse means more risk of wastage, and not enough could lead to out-of-stocks — and push customers to seek solutions from your competitors. In this challenge, get a taste of demand forecasting challenge using a real dataset."
   ]
  },
  {
   "cell_type": "code",
   "execution_count": 44,
   "metadata": {},
   "outputs": [],
   "source": [
    "import pandas as pd\n",
    "import seaborn as sns\n",
    "import os\n",
    "import numpy as np\n",
    "\n",
    "import warnings\n",
    "warnings.filterwarnings('ignore') \n",
    "\n",
    "import matplotlib.pyplot as plt\n",
    "%matplotlib inline"
   ]
  },
  {
   "cell_type": "code",
   "execution_count": 45,
   "metadata": {},
   "outputs": [
    {
     "data": {
      "text/plain": [
       "'C:\\\\Users\\\\Sai Shiva Ganesan\\\\Desktop\\\\My Notebooks\\\\AV food demand forecasting challenge'"
      ]
     },
     "execution_count": 45,
     "metadata": {},
     "output_type": "execute_result"
    }
   ],
   "source": [
    "os.getcwd()"
   ]
  },
  {
   "cell_type": "code",
   "execution_count": 46,
   "metadata": {},
   "outputs": [],
   "source": [
    "os.chdir('C:\\\\Users\\\\Sai Shiva Ganesan\\\\Desktop\\\\My Notebooks\\\\AV food demand forecasting challenge')"
   ]
  },
  {
   "cell_type": "code",
   "execution_count": 47,
   "metadata": {},
   "outputs": [
    {
     "data": {
      "text/plain": [
       "'C:\\\\Users\\\\Sai Shiva Ganesan\\\\Desktop\\\\My Notebooks\\\\AV food demand forecasting challenge'"
      ]
     },
     "execution_count": 47,
     "metadata": {},
     "output_type": "execute_result"
    }
   ],
   "source": [
    "os.getcwd()"
   ]
  },
  {
   "cell_type": "code",
   "execution_count": 48,
   "metadata": {},
   "outputs": [],
   "source": [
    "#Import train and test data\n",
    "\n",
    "train = pd.read_csv('train.csv')\n",
    "test = pd.read_csv('test.csv')"
   ]
  },
  {
   "cell_type": "code",
   "execution_count": 49,
   "metadata": {},
   "outputs": [
    {
     "name": "stdout",
     "output_type": "stream",
     "text": [
      "(456548, 9)\n",
      "id                       0\n",
      "week                     0\n",
      "center_id                0\n",
      "meal_id                  0\n",
      "checkout_price           0\n",
      "base_price               0\n",
      "emailer_for_promotion    0\n",
      "homepage_featured        0\n",
      "num_orders               0\n",
      "dtype: int64\n"
     ]
    },
    {
     "data": {
      "text/html": [
       "<div>\n",
       "<style scoped>\n",
       "    .dataframe tbody tr th:only-of-type {\n",
       "        vertical-align: middle;\n",
       "    }\n",
       "\n",
       "    .dataframe tbody tr th {\n",
       "        vertical-align: top;\n",
       "    }\n",
       "\n",
       "    .dataframe thead th {\n",
       "        text-align: right;\n",
       "    }\n",
       "</style>\n",
       "<table border=\"1\" class=\"dataframe\">\n",
       "  <thead>\n",
       "    <tr style=\"text-align: right;\">\n",
       "      <th></th>\n",
       "      <th>id</th>\n",
       "      <th>week</th>\n",
       "      <th>center_id</th>\n",
       "      <th>meal_id</th>\n",
       "      <th>checkout_price</th>\n",
       "      <th>base_price</th>\n",
       "      <th>emailer_for_promotion</th>\n",
       "      <th>homepage_featured</th>\n",
       "      <th>num_orders</th>\n",
       "    </tr>\n",
       "  </thead>\n",
       "  <tbody>\n",
       "    <tr>\n",
       "      <th>0</th>\n",
       "      <td>1379560</td>\n",
       "      <td>1</td>\n",
       "      <td>55</td>\n",
       "      <td>1885</td>\n",
       "      <td>136.83</td>\n",
       "      <td>152.29</td>\n",
       "      <td>0</td>\n",
       "      <td>0</td>\n",
       "      <td>177</td>\n",
       "    </tr>\n",
       "    <tr>\n",
       "      <th>1</th>\n",
       "      <td>1466964</td>\n",
       "      <td>1</td>\n",
       "      <td>55</td>\n",
       "      <td>1993</td>\n",
       "      <td>136.83</td>\n",
       "      <td>135.83</td>\n",
       "      <td>0</td>\n",
       "      <td>0</td>\n",
       "      <td>270</td>\n",
       "    </tr>\n",
       "    <tr>\n",
       "      <th>2</th>\n",
       "      <td>1346989</td>\n",
       "      <td>1</td>\n",
       "      <td>55</td>\n",
       "      <td>2539</td>\n",
       "      <td>134.86</td>\n",
       "      <td>135.86</td>\n",
       "      <td>0</td>\n",
       "      <td>0</td>\n",
       "      <td>189</td>\n",
       "    </tr>\n",
       "    <tr>\n",
       "      <th>3</th>\n",
       "      <td>1338232</td>\n",
       "      <td>1</td>\n",
       "      <td>55</td>\n",
       "      <td>2139</td>\n",
       "      <td>339.50</td>\n",
       "      <td>437.53</td>\n",
       "      <td>0</td>\n",
       "      <td>0</td>\n",
       "      <td>54</td>\n",
       "    </tr>\n",
       "    <tr>\n",
       "      <th>4</th>\n",
       "      <td>1448490</td>\n",
       "      <td>1</td>\n",
       "      <td>55</td>\n",
       "      <td>2631</td>\n",
       "      <td>243.50</td>\n",
       "      <td>242.50</td>\n",
       "      <td>0</td>\n",
       "      <td>0</td>\n",
       "      <td>40</td>\n",
       "    </tr>\n",
       "  </tbody>\n",
       "</table>\n",
       "</div>"
      ],
      "text/plain": [
       "        id  week  center_id  meal_id  checkout_price  base_price  \\\n",
       "0  1379560     1         55     1885          136.83      152.29   \n",
       "1  1466964     1         55     1993          136.83      135.83   \n",
       "2  1346989     1         55     2539          134.86      135.86   \n",
       "3  1338232     1         55     2139          339.50      437.53   \n",
       "4  1448490     1         55     2631          243.50      242.50   \n",
       "\n",
       "   emailer_for_promotion  homepage_featured  num_orders  \n",
       "0                      0                  0         177  \n",
       "1                      0                  0         270  \n",
       "2                      0                  0         189  \n",
       "3                      0                  0          54  \n",
       "4                      0                  0          40  "
      ]
     },
     "execution_count": 49,
     "metadata": {},
     "output_type": "execute_result"
    }
   ],
   "source": [
    "print (train.shape)\n",
    "print (train.isnull().sum())\n",
    "train.head()"
   ]
  },
  {
   "cell_type": "code",
   "execution_count": 50,
   "metadata": {},
   "outputs": [
    {
     "name": "stdout",
     "output_type": "stream",
     "text": [
      "(32573, 8)\n",
      "id                       0\n",
      "week                     0\n",
      "center_id                0\n",
      "meal_id                  0\n",
      "checkout_price           0\n",
      "base_price               0\n",
      "emailer_for_promotion    0\n",
      "homepage_featured        0\n",
      "dtype: int64\n"
     ]
    },
    {
     "data": {
      "text/html": [
       "<div>\n",
       "<style scoped>\n",
       "    .dataframe tbody tr th:only-of-type {\n",
       "        vertical-align: middle;\n",
       "    }\n",
       "\n",
       "    .dataframe tbody tr th {\n",
       "        vertical-align: top;\n",
       "    }\n",
       "\n",
       "    .dataframe thead th {\n",
       "        text-align: right;\n",
       "    }\n",
       "</style>\n",
       "<table border=\"1\" class=\"dataframe\">\n",
       "  <thead>\n",
       "    <tr style=\"text-align: right;\">\n",
       "      <th></th>\n",
       "      <th>id</th>\n",
       "      <th>week</th>\n",
       "      <th>center_id</th>\n",
       "      <th>meal_id</th>\n",
       "      <th>checkout_price</th>\n",
       "      <th>base_price</th>\n",
       "      <th>emailer_for_promotion</th>\n",
       "      <th>homepage_featured</th>\n",
       "    </tr>\n",
       "  </thead>\n",
       "  <tbody>\n",
       "    <tr>\n",
       "      <th>0</th>\n",
       "      <td>1028232</td>\n",
       "      <td>146</td>\n",
       "      <td>55</td>\n",
       "      <td>1885</td>\n",
       "      <td>158.11</td>\n",
       "      <td>159.11</td>\n",
       "      <td>0</td>\n",
       "      <td>0</td>\n",
       "    </tr>\n",
       "    <tr>\n",
       "      <th>1</th>\n",
       "      <td>1127204</td>\n",
       "      <td>146</td>\n",
       "      <td>55</td>\n",
       "      <td>1993</td>\n",
       "      <td>160.11</td>\n",
       "      <td>159.11</td>\n",
       "      <td>0</td>\n",
       "      <td>0</td>\n",
       "    </tr>\n",
       "    <tr>\n",
       "      <th>2</th>\n",
       "      <td>1212707</td>\n",
       "      <td>146</td>\n",
       "      <td>55</td>\n",
       "      <td>2539</td>\n",
       "      <td>157.14</td>\n",
       "      <td>159.14</td>\n",
       "      <td>0</td>\n",
       "      <td>0</td>\n",
       "    </tr>\n",
       "    <tr>\n",
       "      <th>3</th>\n",
       "      <td>1082698</td>\n",
       "      <td>146</td>\n",
       "      <td>55</td>\n",
       "      <td>2631</td>\n",
       "      <td>162.02</td>\n",
       "      <td>162.02</td>\n",
       "      <td>0</td>\n",
       "      <td>0</td>\n",
       "    </tr>\n",
       "    <tr>\n",
       "      <th>4</th>\n",
       "      <td>1400926</td>\n",
       "      <td>146</td>\n",
       "      <td>55</td>\n",
       "      <td>1248</td>\n",
       "      <td>163.93</td>\n",
       "      <td>163.93</td>\n",
       "      <td>0</td>\n",
       "      <td>0</td>\n",
       "    </tr>\n",
       "  </tbody>\n",
       "</table>\n",
       "</div>"
      ],
      "text/plain": [
       "        id  week  center_id  meal_id  checkout_price  base_price  \\\n",
       "0  1028232   146         55     1885          158.11      159.11   \n",
       "1  1127204   146         55     1993          160.11      159.11   \n",
       "2  1212707   146         55     2539          157.14      159.14   \n",
       "3  1082698   146         55     2631          162.02      162.02   \n",
       "4  1400926   146         55     1248          163.93      163.93   \n",
       "\n",
       "   emailer_for_promotion  homepage_featured  \n",
       "0                      0                  0  \n",
       "1                      0                  0  \n",
       "2                      0                  0  \n",
       "3                      0                  0  \n",
       "4                      0                  0  "
      ]
     },
     "execution_count": 50,
     "metadata": {},
     "output_type": "execute_result"
    }
   ],
   "source": [
    "print (test.shape)\n",
    "print (test.isnull().sum())\n",
    "test.head()"
   ]
  },
  {
   "cell_type": "code",
   "execution_count": 51,
   "metadata": {},
   "outputs": [],
   "source": [
    "#Importing data in additional files\n",
    "\n",
    "train_meals = pd.read_csv('meal_info.csv')\n",
    "train_fulfilment = pd.read_csv('fulfilment_center_info.csv')"
   ]
  },
  {
   "cell_type": "code",
   "execution_count": 52,
   "metadata": {},
   "outputs": [
    {
     "data": {
      "text/html": [
       "<div>\n",
       "<style scoped>\n",
       "    .dataframe tbody tr th:only-of-type {\n",
       "        vertical-align: middle;\n",
       "    }\n",
       "\n",
       "    .dataframe tbody tr th {\n",
       "        vertical-align: top;\n",
       "    }\n",
       "\n",
       "    .dataframe thead th {\n",
       "        text-align: right;\n",
       "    }\n",
       "</style>\n",
       "<table border=\"1\" class=\"dataframe\">\n",
       "  <thead>\n",
       "    <tr style=\"text-align: right;\">\n",
       "      <th></th>\n",
       "      <th>meal_id</th>\n",
       "      <th>category</th>\n",
       "      <th>cuisine</th>\n",
       "    </tr>\n",
       "  </thead>\n",
       "  <tbody>\n",
       "    <tr>\n",
       "      <th>0</th>\n",
       "      <td>1885</td>\n",
       "      <td>Beverages</td>\n",
       "      <td>Thai</td>\n",
       "    </tr>\n",
       "    <tr>\n",
       "      <th>1</th>\n",
       "      <td>1993</td>\n",
       "      <td>Beverages</td>\n",
       "      <td>Thai</td>\n",
       "    </tr>\n",
       "    <tr>\n",
       "      <th>2</th>\n",
       "      <td>2539</td>\n",
       "      <td>Beverages</td>\n",
       "      <td>Thai</td>\n",
       "    </tr>\n",
       "    <tr>\n",
       "      <th>3</th>\n",
       "      <td>1248</td>\n",
       "      <td>Beverages</td>\n",
       "      <td>Indian</td>\n",
       "    </tr>\n",
       "    <tr>\n",
       "      <th>4</th>\n",
       "      <td>2631</td>\n",
       "      <td>Beverages</td>\n",
       "      <td>Indian</td>\n",
       "    </tr>\n",
       "  </tbody>\n",
       "</table>\n",
       "</div>"
      ],
      "text/plain": [
       "   meal_id   category cuisine\n",
       "0     1885  Beverages    Thai\n",
       "1     1993  Beverages    Thai\n",
       "2     2539  Beverages    Thai\n",
       "3     1248  Beverages  Indian\n",
       "4     2631  Beverages  Indian"
      ]
     },
     "execution_count": 52,
     "metadata": {},
     "output_type": "execute_result"
    }
   ],
   "source": [
    "train_meals.head()"
   ]
  },
  {
   "cell_type": "code",
   "execution_count": 53,
   "metadata": {},
   "outputs": [
    {
     "data": {
      "text/html": [
       "<div>\n",
       "<style scoped>\n",
       "    .dataframe tbody tr th:only-of-type {\n",
       "        vertical-align: middle;\n",
       "    }\n",
       "\n",
       "    .dataframe tbody tr th {\n",
       "        vertical-align: top;\n",
       "    }\n",
       "\n",
       "    .dataframe thead th {\n",
       "        text-align: right;\n",
       "    }\n",
       "</style>\n",
       "<table border=\"1\" class=\"dataframe\">\n",
       "  <thead>\n",
       "    <tr style=\"text-align: right;\">\n",
       "      <th></th>\n",
       "      <th>center_id</th>\n",
       "      <th>city_code</th>\n",
       "      <th>region_code</th>\n",
       "      <th>center_type</th>\n",
       "      <th>op_area</th>\n",
       "    </tr>\n",
       "  </thead>\n",
       "  <tbody>\n",
       "    <tr>\n",
       "      <th>0</th>\n",
       "      <td>11</td>\n",
       "      <td>679</td>\n",
       "      <td>56</td>\n",
       "      <td>TYPE_A</td>\n",
       "      <td>3.7</td>\n",
       "    </tr>\n",
       "    <tr>\n",
       "      <th>1</th>\n",
       "      <td>13</td>\n",
       "      <td>590</td>\n",
       "      <td>56</td>\n",
       "      <td>TYPE_B</td>\n",
       "      <td>6.7</td>\n",
       "    </tr>\n",
       "    <tr>\n",
       "      <th>2</th>\n",
       "      <td>124</td>\n",
       "      <td>590</td>\n",
       "      <td>56</td>\n",
       "      <td>TYPE_C</td>\n",
       "      <td>4.0</td>\n",
       "    </tr>\n",
       "    <tr>\n",
       "      <th>3</th>\n",
       "      <td>66</td>\n",
       "      <td>648</td>\n",
       "      <td>34</td>\n",
       "      <td>TYPE_A</td>\n",
       "      <td>4.1</td>\n",
       "    </tr>\n",
       "    <tr>\n",
       "      <th>4</th>\n",
       "      <td>94</td>\n",
       "      <td>632</td>\n",
       "      <td>34</td>\n",
       "      <td>TYPE_C</td>\n",
       "      <td>3.6</td>\n",
       "    </tr>\n",
       "  </tbody>\n",
       "</table>\n",
       "</div>"
      ],
      "text/plain": [
       "   center_id  city_code  region_code center_type  op_area\n",
       "0         11        679           56      TYPE_A      3.7\n",
       "1         13        590           56      TYPE_B      6.7\n",
       "2        124        590           56      TYPE_C      4.0\n",
       "3         66        648           34      TYPE_A      4.1\n",
       "4         94        632           34      TYPE_C      3.6"
      ]
     },
     "execution_count": 53,
     "metadata": {},
     "output_type": "execute_result"
    }
   ],
   "source": [
    "train_fulfilment.head()"
   ]
  },
  {
   "cell_type": "markdown",
   "metadata": {},
   "source": [
    "## Exploratory Data Analysis"
   ]
  },
  {
   "cell_type": "code",
   "execution_count": 11,
   "metadata": {},
   "outputs": [
    {
     "data": {
      "image/png": "[encoded data removed]",
      "text/plain": [
       "<Figure size 720x720 with 2 Axes>"
      ]
     },
     "metadata": {},
     "output_type": "display_data"
    }
   ],
   "source": [
    "# Correlation matrix of all features and the response variable\n",
    "\n",
    "fig, ax = plt.subplots(figsize=(10,10))\n",
    "g = sns.heatmap(train.corr(), annot=True, ax=ax)"
   ]
  },
  {
   "cell_type": "markdown",
   "metadata": {},
   "source": [
    "There seems to be a strong correlation between base price and checkout price. This is expected as they tend to have a natural positive relationship in case of any orders we look at. \n",
    "\n",
    "Usually, the checkout prices tend to increase as the base price increases. This is again confirmed by the below scatterplot."
   ]
  },
  {
   "cell_type": "code",
   "execution_count": 12,
   "metadata": {},
   "outputs": [
    {
     "data": {
      "text/plain": [
       "Text(0,0.5,'Checkout Price')"
      ]
     },
     "execution_count": 12,
     "metadata": {},
     "output_type": "execute_result"
    },
    {
     "data": {
      "image/png": "[encoded data removed]",
      "text/plain": [
       "<Figure size 432x288 with 1 Axes>"
      ]
     },
     "metadata": {},
     "output_type": "display_data"
    }
   ],
   "source": [
    "#Relation between Base Price and Checkout Price\n",
    "\n",
    "g = plt.scatter(x='base_price', y='checkout_price', data=train)\n",
    "plt.xlabel('Base Price')\n",
    "plt.ylabel('Checkout Price')"
   ]
  },
  {
   "cell_type": "code",
   "execution_count": 13,
   "metadata": {},
   "outputs": [
    {
     "data": {
      "text/plain": [
       "Text(0.5,0,'Number of Orders (target)')"
      ]
     },
     "execution_count": 13,
     "metadata": {},
     "output_type": "execute_result"
    },
    {
     "data": {
      "image/png": "[encoded data removed]",
      "text/plain": [
       "<Figure size 432x288 with 1 Axes>"
      ]
     },
     "metadata": {},
     "output_type": "display_data"
    }
   ],
   "source": [
    "# Checking distribution of num orders - target variable\n",
    "\n",
    "g = sns.distplot(np.log1p(train.num_orders), color='r')\n",
    "plt.xlabel('Number of Orders (target)')"
   ]
  },
  {
   "cell_type": "markdown",
   "metadata": {},
   "source": [
    "The skewness seems to have reduced considerably after taking log transformation of the target variable. No suprise that the results are evaluated based on the logarithmic values of number of orders. (RMSLE)"
   ]
  },
  {
   "cell_type": "code",
   "execution_count": 54,
   "metadata": {},
   "outputs": [],
   "source": [
    "# Taking log transformation of the target variable - number of orders\n",
    "train['num_orders'] = np.log1p(train['num_orders'])"
   ]
  },
  {
   "cell_type": "code",
   "execution_count": 15,
   "metadata": {},
   "outputs": [
    {
     "data": {
      "text/html": [
       "<div>\n",
       "<style scoped>\n",
       "    .dataframe tbody tr th:only-of-type {\n",
       "        vertical-align: middle;\n",
       "    }\n",
       "\n",
       "    .dataframe tbody tr th {\n",
       "        vertical-align: top;\n",
       "    }\n",
       "\n",
       "    .dataframe thead th {\n",
       "        text-align: right;\n",
       "    }\n",
       "</style>\n",
       "<table border=\"1\" class=\"dataframe\">\n",
       "  <thead>\n",
       "    <tr style=\"text-align: right;\">\n",
       "      <th></th>\n",
       "      <th>id</th>\n",
       "      <th>week</th>\n",
       "      <th>center_id</th>\n",
       "      <th>meal_id</th>\n",
       "      <th>checkout_price</th>\n",
       "      <th>base_price</th>\n",
       "      <th>emailer_for_promotion</th>\n",
       "      <th>homepage_featured</th>\n",
       "      <th>num_orders</th>\n",
       "    </tr>\n",
       "  </thead>\n",
       "  <tbody>\n",
       "    <tr>\n",
       "      <th>0</th>\n",
       "      <td>1379560</td>\n",
       "      <td>1</td>\n",
       "      <td>55</td>\n",
       "      <td>1885</td>\n",
       "      <td>136.83</td>\n",
       "      <td>152.29</td>\n",
       "      <td>0</td>\n",
       "      <td>0</td>\n",
       "      <td>5.181784</td>\n",
       "    </tr>\n",
       "    <tr>\n",
       "      <th>1</th>\n",
       "      <td>1466964</td>\n",
       "      <td>1</td>\n",
       "      <td>55</td>\n",
       "      <td>1993</td>\n",
       "      <td>136.83</td>\n",
       "      <td>135.83</td>\n",
       "      <td>0</td>\n",
       "      <td>0</td>\n",
       "      <td>5.602119</td>\n",
       "    </tr>\n",
       "    <tr>\n",
       "      <th>2</th>\n",
       "      <td>1346989</td>\n",
       "      <td>1</td>\n",
       "      <td>55</td>\n",
       "      <td>2539</td>\n",
       "      <td>134.86</td>\n",
       "      <td>135.86</td>\n",
       "      <td>0</td>\n",
       "      <td>0</td>\n",
       "      <td>5.247024</td>\n",
       "    </tr>\n",
       "    <tr>\n",
       "      <th>3</th>\n",
       "      <td>1338232</td>\n",
       "      <td>1</td>\n",
       "      <td>55</td>\n",
       "      <td>2139</td>\n",
       "      <td>339.50</td>\n",
       "      <td>437.53</td>\n",
       "      <td>0</td>\n",
       "      <td>0</td>\n",
       "      <td>4.007333</td>\n",
       "    </tr>\n",
       "    <tr>\n",
       "      <th>4</th>\n",
       "      <td>1448490</td>\n",
       "      <td>1</td>\n",
       "      <td>55</td>\n",
       "      <td>2631</td>\n",
       "      <td>243.50</td>\n",
       "      <td>242.50</td>\n",
       "      <td>0</td>\n",
       "      <td>0</td>\n",
       "      <td>3.713572</td>\n",
       "    </tr>\n",
       "  </tbody>\n",
       "</table>\n",
       "</div>"
      ],
      "text/plain": [
       "        id  week  center_id  meal_id  checkout_price  base_price  \\\n",
       "0  1379560     1         55     1885          136.83      152.29   \n",
       "1  1466964     1         55     1993          136.83      135.83   \n",
       "2  1346989     1         55     2539          134.86      135.86   \n",
       "3  1338232     1         55     2139          339.50      437.53   \n",
       "4  1448490     1         55     2631          243.50      242.50   \n",
       "\n",
       "   emailer_for_promotion  homepage_featured  num_orders  \n",
       "0                      0                  0    5.181784  \n",
       "1                      0                  0    5.602119  \n",
       "2                      0                  0    5.247024  \n",
       "3                      0                  0    4.007333  \n",
       "4                      0                  0    3.713572  "
      ]
     },
     "execution_count": 15,
     "metadata": {},
     "output_type": "execute_result"
    }
   ],
   "source": [
    "train.head()"
   ]
  },
  {
   "cell_type": "code",
   "execution_count": 55,
   "metadata": {},
   "outputs": [],
   "source": [
    "# Adding columns to train and test for identification\n",
    "\n",
    "train['train_id'] = 1\n",
    "test['train_id'] = 0\n",
    "test['num_orders'] = -999"
   ]
  },
  {
   "cell_type": "code",
   "execution_count": 56,
   "metadata": {},
   "outputs": [
    {
     "data": {
      "text/plain": [
       "(489121, 10)"
      ]
     },
     "execution_count": 56,
     "metadata": {},
     "output_type": "execute_result"
    }
   ],
   "source": [
    "# Join train and test for EDA\n",
    "data = pd.concat(objs=[train, test], axis = 0).reset_index(drop=True)\n",
    "data.shape"
   ]
  },
  {
   "cell_type": "code",
   "execution_count": 18,
   "metadata": {},
   "outputs": [
    {
     "data": {
      "text/plain": [
       "base_price               0\n",
       "center_id                0\n",
       "checkout_price           0\n",
       "emailer_for_promotion    0\n",
       "homepage_featured        0\n",
       "id                       0\n",
       "meal_id                  0\n",
       "num_orders               0\n",
       "train_id                 0\n",
       "week                     0\n",
       "dtype: int64"
      ]
     },
     "execution_count": 18,
     "metadata": {},
     "output_type": "execute_result"
    }
   ],
   "source": [
    "#Checking for null values\n",
    "data.isnull().sum()"
   ]
  },
  {
   "cell_type": "markdown",
   "metadata": {},
   "source": [
    "We have no null values in any of our features. "
   ]
  },
  {
   "cell_type": "code",
   "execution_count": 57,
   "metadata": {},
   "outputs": [
    {
     "data": {
      "text/plain": [
       "456548"
      ]
     },
     "execution_count": 57,
     "metadata": {},
     "output_type": "execute_result"
    }
   ],
   "source": [
    "#Storing length of train set\n",
    "train_len = len(train)\n",
    "train_len"
   ]
  },
  {
   "cell_type": "code",
   "execution_count": 58,
   "metadata": {},
   "outputs": [
    {
     "data": {
      "text/html": [
       "<div>\n",
       "<style scoped>\n",
       "    .dataframe tbody tr th:only-of-type {\n",
       "        vertical-align: middle;\n",
       "    }\n",
       "\n",
       "    .dataframe tbody tr th {\n",
       "        vertical-align: top;\n",
       "    }\n",
       "\n",
       "    .dataframe thead th {\n",
       "        text-align: right;\n",
       "    }\n",
       "</style>\n",
       "<table border=\"1\" class=\"dataframe\">\n",
       "  <thead>\n",
       "    <tr style=\"text-align: right;\">\n",
       "      <th></th>\n",
       "      <th>base_price</th>\n",
       "      <th>center_id</th>\n",
       "      <th>checkout_price</th>\n",
       "      <th>emailer_for_promotion</th>\n",
       "      <th>homepage_featured</th>\n",
       "      <th>id</th>\n",
       "      <th>meal_id</th>\n",
       "      <th>num_orders</th>\n",
       "      <th>train_id</th>\n",
       "      <th>week</th>\n",
       "      <th>category</th>\n",
       "      <th>cuisine</th>\n",
       "    </tr>\n",
       "  </thead>\n",
       "  <tbody>\n",
       "    <tr>\n",
       "      <th>0</th>\n",
       "      <td>152.29</td>\n",
       "      <td>55</td>\n",
       "      <td>136.83</td>\n",
       "      <td>0</td>\n",
       "      <td>0</td>\n",
       "      <td>1379560</td>\n",
       "      <td>1885</td>\n",
       "      <td>5.181784</td>\n",
       "      <td>1</td>\n",
       "      <td>1</td>\n",
       "      <td>Beverages</td>\n",
       "      <td>Thai</td>\n",
       "    </tr>\n",
       "    <tr>\n",
       "      <th>1</th>\n",
       "      <td>135.83</td>\n",
       "      <td>55</td>\n",
       "      <td>136.83</td>\n",
       "      <td>0</td>\n",
       "      <td>0</td>\n",
       "      <td>1466964</td>\n",
       "      <td>1993</td>\n",
       "      <td>5.602119</td>\n",
       "      <td>1</td>\n",
       "      <td>1</td>\n",
       "      <td>Beverages</td>\n",
       "      <td>Thai</td>\n",
       "    </tr>\n",
       "    <tr>\n",
       "      <th>2</th>\n",
       "      <td>135.86</td>\n",
       "      <td>55</td>\n",
       "      <td>134.86</td>\n",
       "      <td>0</td>\n",
       "      <td>0</td>\n",
       "      <td>1346989</td>\n",
       "      <td>2539</td>\n",
       "      <td>5.247024</td>\n",
       "      <td>1</td>\n",
       "      <td>1</td>\n",
       "      <td>Beverages</td>\n",
       "      <td>Thai</td>\n",
       "    </tr>\n",
       "    <tr>\n",
       "      <th>3</th>\n",
       "      <td>437.53</td>\n",
       "      <td>55</td>\n",
       "      <td>339.50</td>\n",
       "      <td>0</td>\n",
       "      <td>0</td>\n",
       "      <td>1338232</td>\n",
       "      <td>2139</td>\n",
       "      <td>4.007333</td>\n",
       "      <td>1</td>\n",
       "      <td>1</td>\n",
       "      <td>Beverages</td>\n",
       "      <td>Indian</td>\n",
       "    </tr>\n",
       "    <tr>\n",
       "      <th>4</th>\n",
       "      <td>242.50</td>\n",
       "      <td>55</td>\n",
       "      <td>243.50</td>\n",
       "      <td>0</td>\n",
       "      <td>0</td>\n",
       "      <td>1448490</td>\n",
       "      <td>2631</td>\n",
       "      <td>3.713572</td>\n",
       "      <td>1</td>\n",
       "      <td>1</td>\n",
       "      <td>Beverages</td>\n",
       "      <td>Indian</td>\n",
       "    </tr>\n",
       "  </tbody>\n",
       "</table>\n",
       "</div>"
      ],
      "text/plain": [
       "   base_price  center_id  checkout_price  emailer_for_promotion  \\\n",
       "0      152.29         55          136.83                      0   \n",
       "1      135.83         55          136.83                      0   \n",
       "2      135.86         55          134.86                      0   \n",
       "3      437.53         55          339.50                      0   \n",
       "4      242.50         55          243.50                      0   \n",
       "\n",
       "   homepage_featured       id  meal_id  num_orders  train_id  week   category  \\\n",
       "0                  0  1379560     1885    5.181784         1     1  Beverages   \n",
       "1                  0  1466964     1993    5.602119         1     1  Beverages   \n",
       "2                  0  1346989     2539    5.247024         1     1  Beverages   \n",
       "3                  0  1338232     2139    4.007333         1     1  Beverages   \n",
       "4                  0  1448490     2631    3.713572         1     1  Beverages   \n",
       "\n",
       "  cuisine  \n",
       "0    Thai  \n",
       "1    Thai  \n",
       "2    Thai  \n",
       "3  Indian  \n",
       "4  Indian  "
      ]
     },
     "execution_count": 58,
     "metadata": {},
     "output_type": "execute_result"
    }
   ],
   "source": [
    "# Adding data from meals and fulfilment to the main data file\n",
    "data = pd.merge(data, train_meals, on='meal_id', how='left')\n",
    "data.head()"
   ]
  },
  {
   "cell_type": "code",
   "execution_count": 59,
   "metadata": {},
   "outputs": [
    {
     "data": {
      "text/html": [
       "<div>\n",
       "<style scoped>\n",
       "    .dataframe tbody tr th:only-of-type {\n",
       "        vertical-align: middle;\n",
       "    }\n",
       "\n",
       "    .dataframe tbody tr th {\n",
       "        vertical-align: top;\n",
       "    }\n",
       "\n",
       "    .dataframe thead th {\n",
       "        text-align: right;\n",
       "    }\n",
       "</style>\n",
       "<table border=\"1\" class=\"dataframe\">\n",
       "  <thead>\n",
       "    <tr style=\"text-align: right;\">\n",
       "      <th></th>\n",
       "      <th>base_price</th>\n",
       "      <th>center_id</th>\n",
       "      <th>checkout_price</th>\n",
       "      <th>emailer_for_promotion</th>\n",
       "      <th>homepage_featured</th>\n",
       "      <th>id</th>\n",
       "      <th>meal_id</th>\n",
       "      <th>num_orders</th>\n",
       "      <th>train_id</th>\n",
       "      <th>week</th>\n",
       "      <th>category</th>\n",
       "      <th>cuisine</th>\n",
       "      <th>city_code</th>\n",
       "      <th>region_code</th>\n",
       "      <th>center_type</th>\n",
       "      <th>op_area</th>\n",
       "    </tr>\n",
       "  </thead>\n",
       "  <tbody>\n",
       "    <tr>\n",
       "      <th>0</th>\n",
       "      <td>152.29</td>\n",
       "      <td>55</td>\n",
       "      <td>136.83</td>\n",
       "      <td>0</td>\n",
       "      <td>0</td>\n",
       "      <td>1379560</td>\n",
       "      <td>1885</td>\n",
       "      <td>5.181784</td>\n",
       "      <td>1</td>\n",
       "      <td>1</td>\n",
       "      <td>Beverages</td>\n",
       "      <td>Thai</td>\n",
       "      <td>647</td>\n",
       "      <td>56</td>\n",
       "      <td>TYPE_C</td>\n",
       "      <td>2.0</td>\n",
       "    </tr>\n",
       "    <tr>\n",
       "      <th>1</th>\n",
       "      <td>135.83</td>\n",
       "      <td>55</td>\n",
       "      <td>136.83</td>\n",
       "      <td>0</td>\n",
       "      <td>0</td>\n",
       "      <td>1466964</td>\n",
       "      <td>1993</td>\n",
       "      <td>5.602119</td>\n",
       "      <td>1</td>\n",
       "      <td>1</td>\n",
       "      <td>Beverages</td>\n",
       "      <td>Thai</td>\n",
       "      <td>647</td>\n",
       "      <td>56</td>\n",
       "      <td>TYPE_C</td>\n",
       "      <td>2.0</td>\n",
       "    </tr>\n",
       "    <tr>\n",
       "      <th>2</th>\n",
       "      <td>135.86</td>\n",
       "      <td>55</td>\n",
       "      <td>134.86</td>\n",
       "      <td>0</td>\n",
       "      <td>0</td>\n",
       "      <td>1346989</td>\n",
       "      <td>2539</td>\n",
       "      <td>5.247024</td>\n",
       "      <td>1</td>\n",
       "      <td>1</td>\n",
       "      <td>Beverages</td>\n",
       "      <td>Thai</td>\n",
       "      <td>647</td>\n",
       "      <td>56</td>\n",
       "      <td>TYPE_C</td>\n",
       "      <td>2.0</td>\n",
       "    </tr>\n",
       "    <tr>\n",
       "      <th>3</th>\n",
       "      <td>437.53</td>\n",
       "      <td>55</td>\n",
       "      <td>339.50</td>\n",
       "      <td>0</td>\n",
       "      <td>0</td>\n",
       "      <td>1338232</td>\n",
       "      <td>2139</td>\n",
       "      <td>4.007333</td>\n",
       "      <td>1</td>\n",
       "      <td>1</td>\n",
       "      <td>Beverages</td>\n",
       "      <td>Indian</td>\n",
       "      <td>647</td>\n",
       "      <td>56</td>\n",
       "      <td>TYPE_C</td>\n",
       "      <td>2.0</td>\n",
       "    </tr>\n",
       "    <tr>\n",
       "      <th>4</th>\n",
       "      <td>242.50</td>\n",
       "      <td>55</td>\n",
       "      <td>243.50</td>\n",
       "      <td>0</td>\n",
       "      <td>0</td>\n",
       "      <td>1448490</td>\n",
       "      <td>2631</td>\n",
       "      <td>3.713572</td>\n",
       "      <td>1</td>\n",
       "      <td>1</td>\n",
       "      <td>Beverages</td>\n",
       "      <td>Indian</td>\n",
       "      <td>647</td>\n",
       "      <td>56</td>\n",
       "      <td>TYPE_C</td>\n",
       "      <td>2.0</td>\n",
       "    </tr>\n",
       "  </tbody>\n",
       "</table>\n",
       "</div>"
      ],
      "text/plain": [
       "   base_price  center_id  checkout_price  emailer_for_promotion  \\\n",
       "0      152.29         55          136.83                      0   \n",
       "1      135.83         55          136.83                      0   \n",
       "2      135.86         55          134.86                      0   \n",
       "3      437.53         55          339.50                      0   \n",
       "4      242.50         55          243.50                      0   \n",
       "\n",
       "   homepage_featured       id  meal_id  num_orders  train_id  week   category  \\\n",
       "0                  0  1379560     1885    5.181784         1     1  Beverages   \n",
       "1                  0  1466964     1993    5.602119         1     1  Beverages   \n",
       "2                  0  1346989     2539    5.247024         1     1  Beverages   \n",
       "3                  0  1338232     2139    4.007333         1     1  Beverages   \n",
       "4                  0  1448490     2631    3.713572         1     1  Beverages   \n",
       "\n",
       "  cuisine  city_code  region_code center_type  op_area  \n",
       "0    Thai        647           56      TYPE_C      2.0  \n",
       "1    Thai        647           56      TYPE_C      2.0  \n",
       "2    Thai        647           56      TYPE_C      2.0  \n",
       "3  Indian        647           56      TYPE_C      2.0  \n",
       "4  Indian        647           56      TYPE_C      2.0  "
      ]
     },
     "execution_count": 59,
     "metadata": {},
     "output_type": "execute_result"
    }
   ],
   "source": [
    "data = pd.merge(data, train_fulfilment, on='center_id', how='left')\n",
    "data.head()"
   ]
  },
  {
   "cell_type": "code",
   "execution_count": 23,
   "metadata": {},
   "outputs": [
    {
     "data": {
      "text/plain": [
       "(489121, 16)"
      ]
     },
     "execution_count": 23,
     "metadata": {},
     "output_type": "execute_result"
    }
   ],
   "source": [
    "data.shape"
   ]
  },
  {
   "cell_type": "code",
   "execution_count": 60,
   "metadata": {},
   "outputs": [],
   "source": [
    "# Splitting back to train and test\n",
    "train = data[data['train_id'] == 1]\n",
    "test = data[data['train_id'] == 0]"
   ]
  },
  {
   "cell_type": "code",
   "execution_count": 25,
   "metadata": {},
   "outputs": [
    {
     "data": {
      "text/plain": [
       "base_price               0\n",
       "center_id                0\n",
       "checkout_price           0\n",
       "emailer_for_promotion    0\n",
       "homepage_featured        0\n",
       "id                       0\n",
       "meal_id                  0\n",
       "num_orders               0\n",
       "train_id                 0\n",
       "week                     0\n",
       "city_code                0\n",
       "region_code              0\n",
       "center_type              0\n",
       "op_area                  0\n",
       "category                 0\n",
       "cuisine                  0\n",
       "dtype: int64"
      ]
     },
     "execution_count": 25,
     "metadata": {},
     "output_type": "execute_result"
    }
   ],
   "source": [
    "train.isnull().sum()"
   ]
  },
  {
   "cell_type": "code",
   "execution_count": 26,
   "metadata": {},
   "outputs": [
    {
     "name": "stdout",
     "output_type": "stream",
     "text": [
      "0    406693\n",
      "1     49855\n",
      "Name: homepage_featured, dtype: int64\n"
     ]
    },
    {
     "data": {
      "text/plain": [
       "Text(16.3,0.5,'Total Number of Orders')"
      ]
     },
     "execution_count": 26,
     "metadata": {},
     "output_type": "execute_result"
    },
    {
     "data": {
      "image/png": "[encoded data removed]",
      "text/plain": [
       "<Figure size 288x288 with 1 Axes>"
      ]
     },
     "metadata": {},
     "output_type": "display_data"
    }
   ],
   "source": [
    "# Homepage featured vs Number of orders\n",
    "\n",
    "print(train.homepage_featured.value_counts())\n",
    "g = sns.factorplot(x='homepage_featured', y= 'num_orders', data=train, kind = 'bar')\n",
    "plt.xlabel('Homepage Featured Products')\n",
    "plt.ylabel('Total Number of Orders')"
   ]
  },
  {
   "cell_type": "markdown",
   "metadata": {},
   "source": [
    "Even with lesser number of records, we can see that the number of orders is considerably high for homepage featured products. \n",
    "\n",
    "Hence this feature might prove to be important in our prediction."
   ]
  },
  {
   "cell_type": "code",
   "execution_count": 27,
   "metadata": {},
   "outputs": [
    {
     "name": "stdout",
     "output_type": "stream",
     "text": [
      "0    419498\n",
      "1     37050\n",
      "Name: emailer_for_promotion, dtype: int64\n"
     ]
    },
    {
     "data": {
      "text/plain": [
       "Text(16.3,0.5,'Total Number of Orders')"
      ]
     },
     "execution_count": 27,
     "metadata": {},
     "output_type": "execute_result"
    },
    {
     "data": {
      "image/png": "[encoded data removed]",
      "text/plain": [
       "<Figure size 288x288 with 1 Axes>"
      ]
     },
     "metadata": {},
     "output_type": "display_data"
    }
   ],
   "source": [
    "# Emailer for promotion vs Number of orders\n",
    "\n",
    "print(train.emailer_for_promotion.value_counts())\n",
    "g = sns.factorplot(x='emailer_for_promotion', y= 'num_orders', data=train, kind = 'bar')\n",
    "plt.xlabel('Email sent for promotion of meal')\n",
    "plt.ylabel('Total Number of Orders')"
   ]
  },
  {
   "cell_type": "markdown",
   "metadata": {},
   "source": [
    "As with homepage featured products, there is significantly lesser number of records for which emails have been sent out to the users. But still the cumulative number of orders are higher for those records for which emails have been sent out."
   ]
  },
  {
   "cell_type": "code",
   "execution_count": 28,
   "metadata": {},
   "outputs": [
    {
     "name": "stdout",
     "output_type": "stream",
     "text": [
      "TYPE_A    262881\n",
      "TYPE_C     99593\n",
      "TYPE_B     94074\n",
      "Name: center_type, dtype: int64\n"
     ]
    },
    {
     "data": {
      "text/plain": [
       "Text(16.3,0.5,'Total Number of Orders')"
      ]
     },
     "execution_count": 28,
     "metadata": {},
     "output_type": "execute_result"
    },
    {
     "data": {
      "image/png": "[encoded data removed]",
      "text/plain": [
       "<Figure size 288x288 with 1 Axes>"
      ]
     },
     "metadata": {},
     "output_type": "display_data"
    }
   ],
   "source": [
    "# Center Type vs Number of orders\n",
    "\n",
    "print(train.center_type.value_counts())\n",
    "g = sns.factorplot(x='center_type', y= 'num_orders', data=train, kind = 'bar')\n",
    "plt.xlabel('Center Type')\n",
    "plt.ylabel('Total Number of Orders')"
   ]
  },
  {
   "cell_type": "markdown",
   "metadata": {},
   "source": [
    "Althugh we don't see much variation in the total number of orders across each center type, we have to keep in mind the number of records we have across each center. This seems to be quite different across each center type. \n",
    "\n",
    "Hence using this feature might prove to be beneficial. "
   ]
  },
  {
   "cell_type": "code",
   "execution_count": 29,
   "metadata": {},
   "outputs": [
    {
     "data": {
      "image/png": "[encoded data removed]",
      "text/plain": [
       "<Figure size 288x288 with 1 Axes>"
      ]
     },
     "metadata": {},
     "output_type": "display_data"
    },
    {
     "data": {
      "image/png": "[encoded data removed]",
      "text/plain": [
       "<Figure size 288x288 with 1 Axes>"
      ]
     },
     "metadata": {},
     "output_type": "display_data"
    }
   ],
   "source": [
    "# Relation between cuisine and num__orders\n",
    "g = sns.factorplot(x='cuisine', y='num_orders', data=train, kind='box')\n",
    "g = sns.factorplot(x='cuisine', y='num_orders', data=train, kind='violin')"
   ]
  },
  {
   "cell_type": "markdown",
   "metadata": {},
   "source": [
    "As expected, we can see from the above plot that the average number of orders seems to vary based on the type of cuisine. This feature will prove to be helpful in predicting the number of orders.\n",
    "\n",
    "We will feature encode these variables so that they can be used in modeling."
   ]
  },
  {
   "cell_type": "code",
   "execution_count": 30,
   "metadata": {},
   "outputs": [
    {
     "data": {
      "image/png": "[encoded data removed]",
      "text/plain": [
       "<Figure size 864x288 with 1 Axes>"
      ]
     },
     "metadata": {},
     "output_type": "display_data"
    }
   ],
   "source": [
    "# Relation between category and num_orders\n",
    "g = sns.factorplot(x='category', y='num_orders', data=train, kind='box', aspect=3)"
   ]
  },
  {
   "cell_type": "markdown",
   "metadata": {},
   "source": [
    "It is obvious that the average number of orders across each meal category is different. Let's encode these variables for our model as well."
   ]
  },
  {
   "cell_type": "code",
   "execution_count": 31,
   "metadata": {},
   "outputs": [
    {
     "data": {
      "image/png": "[encoded data removed]",
      "text/plain": [
       "<Figure size 432x288 with 1 Axes>"
      ]
     },
     "metadata": {},
     "output_type": "display_data"
    }
   ],
   "source": [
    "# Exploring base price\n",
    "g = sns.distplot(data.base_price, color = 'r')"
   ]
  },
  {
   "cell_type": "markdown",
   "metadata": {},
   "source": [
    "## Feature Engineering"
   ]
  },
  {
   "cell_type": "code",
   "execution_count": 61,
   "metadata": {},
   "outputs": [
    {
     "data": {
      "text/html": [
       "<div>\n",
       "<style scoped>\n",
       "    .dataframe tbody tr th:only-of-type {\n",
       "        vertical-align: middle;\n",
       "    }\n",
       "\n",
       "    .dataframe tbody tr th {\n",
       "        vertical-align: top;\n",
       "    }\n",
       "\n",
       "    .dataframe thead th {\n",
       "        text-align: right;\n",
       "    }\n",
       "</style>\n",
       "<table border=\"1\" class=\"dataframe\">\n",
       "  <thead>\n",
       "    <tr style=\"text-align: right;\">\n",
       "      <th></th>\n",
       "      <th>base_price</th>\n",
       "      <th>center_id</th>\n",
       "      <th>checkout_price</th>\n",
       "      <th>emailer_for_promotion</th>\n",
       "      <th>homepage_featured</th>\n",
       "      <th>id</th>\n",
       "      <th>meal_id</th>\n",
       "      <th>num_orders</th>\n",
       "      <th>train_id</th>\n",
       "      <th>week</th>\n",
       "      <th>category</th>\n",
       "      <th>cuisine</th>\n",
       "      <th>city_code</th>\n",
       "      <th>region_code</th>\n",
       "      <th>center_type</th>\n",
       "      <th>op_area</th>\n",
       "      <th>priceratio</th>\n",
       "    </tr>\n",
       "  </thead>\n",
       "  <tbody>\n",
       "    <tr>\n",
       "      <th>0</th>\n",
       "      <td>152.29</td>\n",
       "      <td>55</td>\n",
       "      <td>136.83</td>\n",
       "      <td>0</td>\n",
       "      <td>0</td>\n",
       "      <td>1379560</td>\n",
       "      <td>1885</td>\n",
       "      <td>5.181784</td>\n",
       "      <td>1</td>\n",
       "      <td>1</td>\n",
       "      <td>Beverages</td>\n",
       "      <td>Thai</td>\n",
       "      <td>647</td>\n",
       "      <td>56</td>\n",
       "      <td>TYPE_C</td>\n",
       "      <td>2.0</td>\n",
       "      <td>1.112987</td>\n",
       "    </tr>\n",
       "    <tr>\n",
       "      <th>1</th>\n",
       "      <td>135.83</td>\n",
       "      <td>55</td>\n",
       "      <td>136.83</td>\n",
       "      <td>0</td>\n",
       "      <td>0</td>\n",
       "      <td>1466964</td>\n",
       "      <td>1993</td>\n",
       "      <td>5.602119</td>\n",
       "      <td>1</td>\n",
       "      <td>1</td>\n",
       "      <td>Beverages</td>\n",
       "      <td>Thai</td>\n",
       "      <td>647</td>\n",
       "      <td>56</td>\n",
       "      <td>TYPE_C</td>\n",
       "      <td>2.0</td>\n",
       "      <td>0.992692</td>\n",
       "    </tr>\n",
       "    <tr>\n",
       "      <th>2</th>\n",
       "      <td>135.86</td>\n",
       "      <td>55</td>\n",
       "      <td>134.86</td>\n",
       "      <td>0</td>\n",
       "      <td>0</td>\n",
       "      <td>1346989</td>\n",
       "      <td>2539</td>\n",
       "      <td>5.247024</td>\n",
       "      <td>1</td>\n",
       "      <td>1</td>\n",
       "      <td>Beverages</td>\n",
       "      <td>Thai</td>\n",
       "      <td>647</td>\n",
       "      <td>56</td>\n",
       "      <td>TYPE_C</td>\n",
       "      <td>2.0</td>\n",
       "      <td>1.007415</td>\n",
       "    </tr>\n",
       "    <tr>\n",
       "      <th>3</th>\n",
       "      <td>437.53</td>\n",
       "      <td>55</td>\n",
       "      <td>339.50</td>\n",
       "      <td>0</td>\n",
       "      <td>0</td>\n",
       "      <td>1338232</td>\n",
       "      <td>2139</td>\n",
       "      <td>4.007333</td>\n",
       "      <td>1</td>\n",
       "      <td>1</td>\n",
       "      <td>Beverages</td>\n",
       "      <td>Indian</td>\n",
       "      <td>647</td>\n",
       "      <td>56</td>\n",
       "      <td>TYPE_C</td>\n",
       "      <td>2.0</td>\n",
       "      <td>1.288748</td>\n",
       "    </tr>\n",
       "    <tr>\n",
       "      <th>4</th>\n",
       "      <td>242.50</td>\n",
       "      <td>55</td>\n",
       "      <td>243.50</td>\n",
       "      <td>0</td>\n",
       "      <td>0</td>\n",
       "      <td>1448490</td>\n",
       "      <td>2631</td>\n",
       "      <td>3.713572</td>\n",
       "      <td>1</td>\n",
       "      <td>1</td>\n",
       "      <td>Beverages</td>\n",
       "      <td>Indian</td>\n",
       "      <td>647</td>\n",
       "      <td>56</td>\n",
       "      <td>TYPE_C</td>\n",
       "      <td>2.0</td>\n",
       "      <td>0.995893</td>\n",
       "    </tr>\n",
       "  </tbody>\n",
       "</table>\n",
       "</div>"
      ],
      "text/plain": [
       "   base_price  center_id  checkout_price  emailer_for_promotion  \\\n",
       "0      152.29         55          136.83                      0   \n",
       "1      135.83         55          136.83                      0   \n",
       "2      135.86         55          134.86                      0   \n",
       "3      437.53         55          339.50                      0   \n",
       "4      242.50         55          243.50                      0   \n",
       "\n",
       "   homepage_featured       id  meal_id  num_orders  train_id  week   category  \\\n",
       "0                  0  1379560     1885    5.181784         1     1  Beverages   \n",
       "1                  0  1466964     1993    5.602119         1     1  Beverages   \n",
       "2                  0  1346989     2539    5.247024         1     1  Beverages   \n",
       "3                  0  1338232     2139    4.007333         1     1  Beverages   \n",
       "4                  0  1448490     2631    3.713572         1     1  Beverages   \n",
       "\n",
       "  cuisine  city_code  region_code center_type  op_area  priceratio  \n",
       "0    Thai        647           56      TYPE_C      2.0    1.112987  \n",
       "1    Thai        647           56      TYPE_C      2.0    0.992692  \n",
       "2    Thai        647           56      TYPE_C      2.0    1.007415  \n",
       "3  Indian        647           56      TYPE_C      2.0    1.288748  \n",
       "4  Indian        647           56      TYPE_C      2.0    0.995893  "
      ]
     },
     "execution_count": 61,
     "metadata": {},
     "output_type": "execute_result"
    }
   ],
   "source": [
    "# Creating a new variable for ratio in checkout and base price\n",
    "data['priceratio'] = data['base_price'] / data['checkout_price']\n",
    "data.head()"
   ]
  },
  {
   "cell_type": "code",
   "execution_count": 33,
   "metadata": {},
   "outputs": [
    {
     "data": {
      "text/plain": [
       "Index(['base_price', 'center_id', 'checkout_price', 'emailer_for_promotion',\n",
       "       'homepage_featured', 'id', 'meal_id', 'num_orders', 'train_id', 'week',\n",
       "       'city_code', 'region_code', 'center_type', 'op_area', 'category',\n",
       "       'cuisine', 'priceratio'],\n",
       "      dtype='object')"
      ]
     },
     "execution_count": 33,
     "metadata": {},
     "output_type": "execute_result"
    }
   ],
   "source": [
    "data.columns"
   ]
  },
  {
   "cell_type": "code",
   "execution_count": 62,
   "metadata": {},
   "outputs": [],
   "source": [
    "# Extracting year, month and quarter features from the week values\n",
    "\n",
    "data['month'] = data['week'].apply(lambda x: int(x/4))\n",
    "data['quarter'] = data['week'].apply(lambda x: int(x/13))\n",
    "data['year'] = data['week'].apply(lambda x: int(x/52))"
   ]
  },
  {
   "cell_type": "code",
   "execution_count": 35,
   "metadata": {},
   "outputs": [
    {
     "data": {
      "text/plain": [
       "(489121, 20)"
      ]
     },
     "execution_count": 35,
     "metadata": {},
     "output_type": "execute_result"
    }
   ],
   "source": [
    "data.shape"
   ]
  },
  {
   "cell_type": "markdown",
   "metadata": {},
   "source": [
    "Capturing those products which were featured on the homepage as well as email promotions were sent. We will be creating a new interaction variable for this.\n"
   ]
  },
  {
   "cell_type": "code",
   "execution_count": 63,
   "metadata": {},
   "outputs": [],
   "source": [
    "# Creating a new interaction variable for products having email promotions and homepage display\n",
    "data['email_and_homepage'] = data['emailer_for_promotion'] * data['homepage_featured']"
   ]
  },
  {
   "cell_type": "code",
   "execution_count": 64,
   "metadata": {},
   "outputs": [],
   "source": [
    "# Creating aggregate features\n",
    "\n",
    "feat = data.groupby(['meal_id'])['checkout_price'].agg(['min', 'max', 'mean', 'std']).reset_index()\n",
    "feat.columns = ['meal_id', 'checkout_min', 'checkout_max', 'checkout_mean', 'checkout_std']\n",
    "data = data.merge(feat, on = 'meal_id', how = 'left')\n",
    "\n",
    "feat = data.groupby(['meal_id'])['base_price'].agg(['min', 'max', 'mean', 'std']).reset_index()\n",
    "feat.columns = ['meal_id', 'base_min', 'base_max', 'base_mean', 'base_std']\n",
    "data = data.merge(feat, on = 'meal_id', how = 'left')\n",
    "\n",
    "feat = data.groupby(['center_id', 'meal_id', 'week'])['checkout_price'].agg(['min', 'max', 'mean', 'std']).reset_index()\n",
    "feat.columns = ['center_id', 'meal_id', 'week', 'meal_min', 'meal_max', 'meal_mean', 'meal_std']\n",
    "data = data.merge(feat, on = ['center_id', 'meal_id', 'week'], how = 'left')\n",
    "\n",
    "feat = data.groupby(['city_code', 'category'])['checkout_price'].agg(['min', 'max', 'mean', 'std']).reset_index()\n",
    "feat.columns = ['city_code', 'category', 'cat_min', 'cat_max', 'cat_mean', 'cat_std']\n",
    "data = data.merge(feat, on = ['city_code', 'category'], how = 'left')\n",
    "\n",
    "# Ranking based on checkout price\n",
    "\n",
    "data['meal_price_rank'] = data.groupby(['meal_id'])['checkout_price'].rank()\n",
    "data['meal_city_rank'] = data.groupby(['meal_id', 'city_code'])['checkout_price'].rank()\n",
    "data['meal_region_rank'] = data.groupby(['meal_id', 'region_code'])['checkout_price'].rank()\n",
    "data['meal_week_rank'] = data.groupby(['meal_id', 'week'])['checkout_price'].rank()\n",
    "\n",
    "data['center_price_rank'] = data.groupby(['center_id'])['checkout_price'].rank()\n",
    "data['center_week_price_rank'] = data.groupby(['center_id', 'week'])['checkout_price'].rank()\n",
    "data['center_cat_price_rank'] = data.groupby(['center_id', 'category'])['checkout_price'].rank()\n",
    "\n",
    "# Count features\n",
    "\n",
    "feat = data.groupby(['category'])['id'].agg('size').reset_index()\n",
    "feat.columns = ['category', 'cat_size']\n",
    "data = data.merge(feat, on = ['category'], how = 'left')\n",
    "\n",
    "feat = data.groupby(['cuisine'])['id'].agg('size').reset_index()\n",
    "feat.columns = ['cuisine', 'cui_size']\n",
    "data = data.merge(feat, on = ['cuisine'], how = 'left')\n",
    "\n",
    "feat = data.groupby(['city_code'])['id'].agg('size').reset_index()\n",
    "feat.columns = ['city_code', 'city_size']\n",
    "data = data.merge(feat, on = ['city_code'], how = 'left')\n",
    "\n",
    "feat = data.groupby(['region_code'])['id'].agg('size').reset_index()\n",
    "feat.columns = ['region_code', 'reg_size']\n",
    "data = data.merge(feat, on = ['region_code'], how = 'left')\n",
    "\n",
    "feat = data.groupby(['center_id', 'week'])['id'].agg('size').reset_index()\n",
    "feat.columns = ['center_id', 'week', 'center_week_size']\n",
    "data = data.merge(feat, on = ['center_id', 'week'], how='left')\n",
    "\n",
    "feat = data.groupby(['center_id', 'category'])['id'].agg('size').reset_index()\n",
    "feat.columns = ['center_id', 'category', 'center_cat_size']\n",
    "data = data.merge(feat, on = ['center_id', 'category'], how='left')\n",
    "\n",
    "feat = data.groupby(['center_id', 'category', 'week'])['id'].agg('size').reset_index()\n",
    "feat.columns = ['center_id', 'category', 'week', 'cen_cat_week_size']\n",
    "data = data.merge(feat, on = ['center_id', 'category', 'week'], how='left')\n",
    "\n",
    "feat = data.groupby(['center_id', 'cuisine'])['id'].agg('size').reset_index()\n",
    "feat.columns = ['center_id', 'cuisine', 'cen_cui_size']\n",
    "data = data.merge(feat, on = ['center_id', 'cuisine'], how='left')\n",
    "\n",
    "\n",
    "del feat"
   ]
  },
  {
   "cell_type": "code",
   "execution_count": 65,
   "metadata": {},
   "outputs": [
    {
     "data": {
      "text/html": [
       "<div>\n",
       "<style scoped>\n",
       "    .dataframe tbody tr th:only-of-type {\n",
       "        vertical-align: middle;\n",
       "    }\n",
       "\n",
       "    .dataframe tbody tr th {\n",
       "        vertical-align: top;\n",
       "    }\n",
       "\n",
       "    .dataframe thead th {\n",
       "        text-align: right;\n",
       "    }\n",
       "</style>\n",
       "<table border=\"1\" class=\"dataframe\">\n",
       "  <thead>\n",
       "    <tr style=\"text-align: right;\">\n",
       "      <th></th>\n",
       "      <th>base_price</th>\n",
       "      <th>center_id</th>\n",
       "      <th>checkout_price</th>\n",
       "      <th>emailer_for_promotion</th>\n",
       "      <th>homepage_featured</th>\n",
       "      <th>id</th>\n",
       "      <th>meal_id</th>\n",
       "      <th>num_orders</th>\n",
       "      <th>train_id</th>\n",
       "      <th>week</th>\n",
       "      <th>...</th>\n",
       "      <th>category_Fish</th>\n",
       "      <th>category_Other Snacks</th>\n",
       "      <th>category_Pasta</th>\n",
       "      <th>category_Pizza</th>\n",
       "      <th>category_Rice Bowl</th>\n",
       "      <th>category_Salad</th>\n",
       "      <th>category_Sandwich</th>\n",
       "      <th>category_Seafood</th>\n",
       "      <th>category_Soup</th>\n",
       "      <th>category_Starters</th>\n",
       "    </tr>\n",
       "  </thead>\n",
       "  <tbody>\n",
       "    <tr>\n",
       "      <th>0</th>\n",
       "      <td>152.29</td>\n",
       "      <td>55</td>\n",
       "      <td>136.83</td>\n",
       "      <td>0</td>\n",
       "      <td>0</td>\n",
       "      <td>1379560</td>\n",
       "      <td>1885</td>\n",
       "      <td>5.181784</td>\n",
       "      <td>1</td>\n",
       "      <td>1</td>\n",
       "      <td>...</td>\n",
       "      <td>0</td>\n",
       "      <td>0</td>\n",
       "      <td>0</td>\n",
       "      <td>0</td>\n",
       "      <td>0</td>\n",
       "      <td>0</td>\n",
       "      <td>0</td>\n",
       "      <td>0</td>\n",
       "      <td>0</td>\n",
       "      <td>0</td>\n",
       "    </tr>\n",
       "    <tr>\n",
       "      <th>1</th>\n",
       "      <td>135.83</td>\n",
       "      <td>55</td>\n",
       "      <td>136.83</td>\n",
       "      <td>0</td>\n",
       "      <td>0</td>\n",
       "      <td>1466964</td>\n",
       "      <td>1993</td>\n",
       "      <td>5.602119</td>\n",
       "      <td>1</td>\n",
       "      <td>1</td>\n",
       "      <td>...</td>\n",
       "      <td>0</td>\n",
       "      <td>0</td>\n",
       "      <td>0</td>\n",
       "      <td>0</td>\n",
       "      <td>0</td>\n",
       "      <td>0</td>\n",
       "      <td>0</td>\n",
       "      <td>0</td>\n",
       "      <td>0</td>\n",
       "      <td>0</td>\n",
       "    </tr>\n",
       "    <tr>\n",
       "      <th>2</th>\n",
       "      <td>135.86</td>\n",
       "      <td>55</td>\n",
       "      <td>134.86</td>\n",
       "      <td>0</td>\n",
       "      <td>0</td>\n",
       "      <td>1346989</td>\n",
       "      <td>2539</td>\n",
       "      <td>5.247024</td>\n",
       "      <td>1</td>\n",
       "      <td>1</td>\n",
       "      <td>...</td>\n",
       "      <td>0</td>\n",
       "      <td>0</td>\n",
       "      <td>0</td>\n",
       "      <td>0</td>\n",
       "      <td>0</td>\n",
       "      <td>0</td>\n",
       "      <td>0</td>\n",
       "      <td>0</td>\n",
       "      <td>0</td>\n",
       "      <td>0</td>\n",
       "    </tr>\n",
       "    <tr>\n",
       "      <th>3</th>\n",
       "      <td>437.53</td>\n",
       "      <td>55</td>\n",
       "      <td>339.50</td>\n",
       "      <td>0</td>\n",
       "      <td>0</td>\n",
       "      <td>1338232</td>\n",
       "      <td>2139</td>\n",
       "      <td>4.007333</td>\n",
       "      <td>1</td>\n",
       "      <td>1</td>\n",
       "      <td>...</td>\n",
       "      <td>0</td>\n",
       "      <td>0</td>\n",
       "      <td>0</td>\n",
       "      <td>0</td>\n",
       "      <td>0</td>\n",
       "      <td>0</td>\n",
       "      <td>0</td>\n",
       "      <td>0</td>\n",
       "      <td>0</td>\n",
       "      <td>0</td>\n",
       "    </tr>\n",
       "    <tr>\n",
       "      <th>4</th>\n",
       "      <td>242.50</td>\n",
       "      <td>55</td>\n",
       "      <td>243.50</td>\n",
       "      <td>0</td>\n",
       "      <td>0</td>\n",
       "      <td>1448490</td>\n",
       "      <td>2631</td>\n",
       "      <td>3.713572</td>\n",
       "      <td>1</td>\n",
       "      <td>1</td>\n",
       "      <td>...</td>\n",
       "      <td>0</td>\n",
       "      <td>0</td>\n",
       "      <td>0</td>\n",
       "      <td>0</td>\n",
       "      <td>0</td>\n",
       "      <td>0</td>\n",
       "      <td>0</td>\n",
       "      <td>0</td>\n",
       "      <td>0</td>\n",
       "      <td>0</td>\n",
       "    </tr>\n",
       "  </tbody>\n",
       "</table>\n",
       "<p>5 rows × 70 columns</p>\n",
       "</div>"
      ],
      "text/plain": [
       "   base_price  center_id  checkout_price  emailer_for_promotion  \\\n",
       "0      152.29         55          136.83                      0   \n",
       "1      135.83         55          136.83                      0   \n",
       "2      135.86         55          134.86                      0   \n",
       "3      437.53         55          339.50                      0   \n",
       "4      242.50         55          243.50                      0   \n",
       "\n",
       "   homepage_featured       id  meal_id  num_orders  train_id  week  \\\n",
       "0                  0  1379560     1885    5.181784         1     1   \n",
       "1                  0  1466964     1993    5.602119         1     1   \n",
       "2                  0  1346989     2539    5.247024         1     1   \n",
       "3                  0  1338232     2139    4.007333         1     1   \n",
       "4                  0  1448490     2631    3.713572         1     1   \n",
       "\n",
       "         ...          category_Fish  category_Other Snacks  category_Pasta  \\\n",
       "0        ...                      0                      0               0   \n",
       "1        ...                      0                      0               0   \n",
       "2        ...                      0                      0               0   \n",
       "3        ...                      0                      0               0   \n",
       "4        ...                      0                      0               0   \n",
       "\n",
       "   category_Pizza  category_Rice Bowl  category_Salad  category_Sandwich  \\\n",
       "0               0                   0               0                  0   \n",
       "1               0                   0               0                  0   \n",
       "2               0                   0               0                  0   \n",
       "3               0                   0               0                  0   \n",
       "4               0                   0               0                  0   \n",
       "\n",
       "   category_Seafood  category_Soup  category_Starters  \n",
       "0                 0              0                  0  \n",
       "1                 0              0                  0  \n",
       "2                 0              0                  0  \n",
       "3                 0              0                  0  \n",
       "4                 0              0                  0  \n",
       "\n",
       "[5 rows x 70 columns]"
      ]
     },
     "execution_count": 65,
     "metadata": {},
     "output_type": "execute_result"
    }
   ],
   "source": [
    "# Get dummy variables\n",
    "# Encoding cuisine feature\n",
    "data = pd.get_dummies(data, columns=['center_type'])\n",
    "\n",
    "# Encoding cuisine feature\n",
    "data = pd.get_dummies(data, columns=['cuisine'])\n",
    "\n",
    "# Encoding cuisine feature\n",
    "data = pd.get_dummies(data, columns=['category'])\n",
    "data.head()"
   ]
  },
  {
   "cell_type": "code",
   "execution_count": 66,
   "metadata": {},
   "outputs": [],
   "source": [
    "# Converting non-numerical variables to object data types\n",
    "\n",
    "data.week = data.week.astype(np.object)\n",
    "data.month = data.month.astype(np.object)\n",
    "data.quarter = data.quarter.astype(np.object)\n",
    "data.year = data.year.astype(np.object)\n",
    "data.city_code = data.city_code.astype(np.object)\n",
    "data.region_code = data.region_code.astype(np.object)\n",
    "data.meal_id = data.meal_id.astype(np.object)\n",
    "data.center_id = data.center_id.astype(np.object)"
   ]
  },
  {
   "cell_type": "code",
   "execution_count": 67,
   "metadata": {},
   "outputs": [
    {
     "data": {
      "text/html": [
       "<div>\n",
       "<style scoped>\n",
       "    .dataframe tbody tr th:only-of-type {\n",
       "        vertical-align: middle;\n",
       "    }\n",
       "\n",
       "    .dataframe tbody tr th {\n",
       "        vertical-align: top;\n",
       "    }\n",
       "\n",
       "    .dataframe thead th {\n",
       "        text-align: right;\n",
       "    }\n",
       "</style>\n",
       "<table border=\"1\" class=\"dataframe\">\n",
       "  <thead>\n",
       "    <tr style=\"text-align: right;\">\n",
       "      <th></th>\n",
       "      <th>base_price</th>\n",
       "      <th>center_id</th>\n",
       "      <th>checkout_price</th>\n",
       "      <th>emailer_for_promotion</th>\n",
       "      <th>homepage_featured</th>\n",
       "      <th>meal_id</th>\n",
       "      <th>num_orders</th>\n",
       "      <th>train_id</th>\n",
       "      <th>week</th>\n",
       "      <th>city_code</th>\n",
       "      <th>...</th>\n",
       "      <th>category_Fish</th>\n",
       "      <th>category_Other Snacks</th>\n",
       "      <th>category_Pasta</th>\n",
       "      <th>category_Pizza</th>\n",
       "      <th>category_Rice Bowl</th>\n",
       "      <th>category_Salad</th>\n",
       "      <th>category_Sandwich</th>\n",
       "      <th>category_Seafood</th>\n",
       "      <th>category_Soup</th>\n",
       "      <th>category_Starters</th>\n",
       "    </tr>\n",
       "  </thead>\n",
       "  <tbody>\n",
       "    <tr>\n",
       "      <th>0</th>\n",
       "      <td>152.29</td>\n",
       "      <td>55</td>\n",
       "      <td>136.83</td>\n",
       "      <td>0</td>\n",
       "      <td>0</td>\n",
       "      <td>1885</td>\n",
       "      <td>5.181784</td>\n",
       "      <td>1</td>\n",
       "      <td>1</td>\n",
       "      <td>647</td>\n",
       "      <td>...</td>\n",
       "      <td>0</td>\n",
       "      <td>0</td>\n",
       "      <td>0</td>\n",
       "      <td>0</td>\n",
       "      <td>0</td>\n",
       "      <td>0</td>\n",
       "      <td>0</td>\n",
       "      <td>0</td>\n",
       "      <td>0</td>\n",
       "      <td>0</td>\n",
       "    </tr>\n",
       "    <tr>\n",
       "      <th>1</th>\n",
       "      <td>135.83</td>\n",
       "      <td>55</td>\n",
       "      <td>136.83</td>\n",
       "      <td>0</td>\n",
       "      <td>0</td>\n",
       "      <td>1993</td>\n",
       "      <td>5.602119</td>\n",
       "      <td>1</td>\n",
       "      <td>1</td>\n",
       "      <td>647</td>\n",
       "      <td>...</td>\n",
       "      <td>0</td>\n",
       "      <td>0</td>\n",
       "      <td>0</td>\n",
       "      <td>0</td>\n",
       "      <td>0</td>\n",
       "      <td>0</td>\n",
       "      <td>0</td>\n",
       "      <td>0</td>\n",
       "      <td>0</td>\n",
       "      <td>0</td>\n",
       "    </tr>\n",
       "    <tr>\n",
       "      <th>2</th>\n",
       "      <td>135.86</td>\n",
       "      <td>55</td>\n",
       "      <td>134.86</td>\n",
       "      <td>0</td>\n",
       "      <td>0</td>\n",
       "      <td>2539</td>\n",
       "      <td>5.247024</td>\n",
       "      <td>1</td>\n",
       "      <td>1</td>\n",
       "      <td>647</td>\n",
       "      <td>...</td>\n",
       "      <td>0</td>\n",
       "      <td>0</td>\n",
       "      <td>0</td>\n",
       "      <td>0</td>\n",
       "      <td>0</td>\n",
       "      <td>0</td>\n",
       "      <td>0</td>\n",
       "      <td>0</td>\n",
       "      <td>0</td>\n",
       "      <td>0</td>\n",
       "    </tr>\n",
       "    <tr>\n",
       "      <th>3</th>\n",
       "      <td>437.53</td>\n",
       "      <td>55</td>\n",
       "      <td>339.50</td>\n",
       "      <td>0</td>\n",
       "      <td>0</td>\n",
       "      <td>2139</td>\n",
       "      <td>4.007333</td>\n",
       "      <td>1</td>\n",
       "      <td>1</td>\n",
       "      <td>647</td>\n",
       "      <td>...</td>\n",
       "      <td>0</td>\n",
       "      <td>0</td>\n",
       "      <td>0</td>\n",
       "      <td>0</td>\n",
       "      <td>0</td>\n",
       "      <td>0</td>\n",
       "      <td>0</td>\n",
       "      <td>0</td>\n",
       "      <td>0</td>\n",
       "      <td>0</td>\n",
       "    </tr>\n",
       "    <tr>\n",
       "      <th>4</th>\n",
       "      <td>242.50</td>\n",
       "      <td>55</td>\n",
       "      <td>243.50</td>\n",
       "      <td>0</td>\n",
       "      <td>0</td>\n",
       "      <td>2631</td>\n",
       "      <td>3.713572</td>\n",
       "      <td>1</td>\n",
       "      <td>1</td>\n",
       "      <td>647</td>\n",
       "      <td>...</td>\n",
       "      <td>0</td>\n",
       "      <td>0</td>\n",
       "      <td>0</td>\n",
       "      <td>0</td>\n",
       "      <td>0</td>\n",
       "      <td>0</td>\n",
       "      <td>0</td>\n",
       "      <td>0</td>\n",
       "      <td>0</td>\n",
       "      <td>0</td>\n",
       "    </tr>\n",
       "  </tbody>\n",
       "</table>\n",
       "<p>5 rows × 69 columns</p>\n",
       "</div>"
      ],
      "text/plain": [
       "   base_price center_id  checkout_price  emailer_for_promotion  \\\n",
       "0      152.29        55          136.83                      0   \n",
       "1      135.83        55          136.83                      0   \n",
       "2      135.86        55          134.86                      0   \n",
       "3      437.53        55          339.50                      0   \n",
       "4      242.50        55          243.50                      0   \n",
       "\n",
       "   homepage_featured meal_id  num_orders  train_id week city_code  \\\n",
       "0                  0    1885    5.181784         1    1       647   \n",
       "1                  0    1993    5.602119         1    1       647   \n",
       "2                  0    2539    5.247024         1    1       647   \n",
       "3                  0    2139    4.007333         1    1       647   \n",
       "4                  0    2631    3.713572         1    1       647   \n",
       "\n",
       "         ...         category_Fish  category_Other Snacks  category_Pasta  \\\n",
       "0        ...                     0                      0               0   \n",
       "1        ...                     0                      0               0   \n",
       "2        ...                     0                      0               0   \n",
       "3        ...                     0                      0               0   \n",
       "4        ...                     0                      0               0   \n",
       "\n",
       "  category_Pizza category_Rice Bowl category_Salad  category_Sandwich  \\\n",
       "0              0                  0              0                  0   \n",
       "1              0                  0              0                  0   \n",
       "2              0                  0              0                  0   \n",
       "3              0                  0              0                  0   \n",
       "4              0                  0              0                  0   \n",
       "\n",
       "   category_Seafood  category_Soup  category_Starters  \n",
       "0                 0              0                  0  \n",
       "1                 0              0                  0  \n",
       "2                 0              0                  0  \n",
       "3                 0              0                  0  \n",
       "4                 0              0                  0  \n",
       "\n",
       "[5 rows x 69 columns]"
      ]
     },
     "execution_count": 67,
     "metadata": {},
     "output_type": "execute_result"
    }
   ],
   "source": [
    "# Dropping features that won't be of much use\n",
    "data.drop(labels=['id'], axis=1, inplace=True)\n",
    "data.head()"
   ]
  },
  {
   "cell_type": "code",
   "execution_count": 68,
   "metadata": {},
   "outputs": [],
   "source": [
    "data.drop(columns = ['meal_std'], axis=1, inplace=True)"
   ]
  },
  {
   "cell_type": "markdown",
   "metadata": {},
   "source": [
    "## Modeling\n",
    "\n",
    "A randome forest regressor is created to predict the food demand in the upcoming weeks"
   ]
  },
  {
   "cell_type": "code",
   "execution_count": 69,
   "metadata": {},
   "outputs": [],
   "source": [
    "# Import required models\n",
    "from sklearn.ensemble import RandomForestRegressor\n",
    "from sklearn.learning_curve import learning_curve\n",
    "from sklearn.model_selection import train_test_split, StratifiedKFold, cross_val_score, GridSearchCV, KFold"
   ]
  },
  {
   "cell_type": "code",
   "execution_count": 70,
   "metadata": {},
   "outputs": [],
   "source": [
    "# Split train and test\n",
    "train = data[data['train_id'] == 1]\n",
    "test = data[data['train_id'] == 0]"
   ]
  },
  {
   "cell_type": "code",
   "execution_count": 71,
   "metadata": {},
   "outputs": [
    {
     "name": "stdout",
     "output_type": "stream",
     "text": [
      "(456548, 68)\n",
      "(32573, 68)\n"
     ]
    }
   ],
   "source": [
    "print (train.shape)\n",
    "print (test.shape)"
   ]
  },
  {
   "cell_type": "code",
   "execution_count": 72,
   "metadata": {},
   "outputs": [],
   "source": [
    "# Drop target variable from test\n",
    "test.drop(labels=['num_orders'], axis=1, inplace=True)"
   ]
  },
  {
   "cell_type": "code",
   "execution_count": 73,
   "metadata": {},
   "outputs": [],
   "source": [
    "# Split train data to X and y\n",
    "y = train['num_orders']\n",
    "X = train.drop(labels=['num_orders'], axis=1)"
   ]
  },
  {
   "cell_type": "code",
   "execution_count": 74,
   "metadata": {},
   "outputs": [],
   "source": [
    "# kfold cross validation\n",
    "kf = KFold(n_splits=3)\n",
    "\n",
    "# Random Forest Model\n",
    "rfr = RandomForestRegressor(n_estimators=100, max_depth=None, n_jobs=4, verbose=1)\n",
    "\n",
    "results = cross_val_score(rfr, X, y, cv=kf, scoring='neg_mean_squared_error', n_jobs=4)"
   ]
  },
  {
   "cell_type": "code",
   "execution_count": 75,
   "metadata": {},
   "outputs": [
    {
     "name": "stdout",
     "output_type": "stream",
     "text": [
      "Train RMSLE for random forest model: 55.22256651852966\n"
     ]
    }
   ],
   "source": [
    "print ('Train RMSLE for random forest model:', np.sqrt(-results.mean()) * 100)"
   ]
  },
  {
   "cell_type": "code",
   "execution_count": 76,
   "metadata": {},
   "outputs": [
    {
     "name": "stderr",
     "output_type": "stream",
     "text": [
      "[Parallel(n_jobs=4)]: Done  42 tasks      | elapsed:  4.5min\n",
      "[Parallel(n_jobs=4)]: Done 100 out of 100 | elapsed: 10.2min finished\n",
      "[Parallel(n_jobs=4)]: Done  42 tasks      | elapsed:    0.3s\n",
      "[Parallel(n_jobs=4)]: Done 100 out of 100 | elapsed:    0.8s finished\n"
     ]
    }
   ],
   "source": [
    "# Predicting test set results using Random Forest Model\n",
    "rfr.fit(X, y)\n",
    "y_pred = rfr.predict(test)"
   ]
  },
  {
   "cell_type": "code",
   "execution_count": 77,
   "metadata": {},
   "outputs": [],
   "source": [
    "# Converting to real continuous values from log values\n",
    "y_pred = np.expm1(y_pred)"
   ]
  },
  {
   "cell_type": "code",
   "execution_count": 78,
   "metadata": {},
   "outputs": [],
   "source": [
    "# Final Submission\n",
    "prediction = pd.Series(y_pred, name = 'num_orders')\n",
    "test_id = pd.read_csv('test.csv')\n",
    "submission = pd.concat([test_id['id'], prediction], axis=1)"
   ]
  },
  {
   "cell_type": "code",
   "execution_count": 79,
   "metadata": {},
   "outputs": [],
   "source": [
    "# Export to csv\n",
    "submission.to_csv('finalsub.csv', index=False)"
   ]
  },
  {
   "cell_type": "code",
   "execution_count": 93,
   "metadata": {},
   "outputs": [
    {
     "data": {
      "image/png": "[encoded data removed]",
      "text/plain": [
       "<Figure size 720x720 with 1 Axes>"
      ]
     },
     "metadata": {},
     "output_type": "display_data"
    }
   ],
   "source": [
    "# Plotting feature importance\n",
    "indices = np.argsort(rfr.feature_importances_)[::-1][:40]\n",
    "fig, ax = plt.subplots(figsize=(10, 10))\n",
    "g = sns.barplot(y=X.columns[indices][:40], x=rfr.feature_importances_[indices][:40], orient = 'h', ax=ax)\n",
    "g.set_xlabel(\"Relative importance\",fontsize=12)\n",
    "g.set_ylabel(\"Features\",fontsize=12)\n",
    "g.tick_params(labelsize=9)\n",
    "plt.title(\"Random Forest Feature importances\")\n",
    "plt.show()"
   ]
  },
  {
   "cell_type": "markdown",
   "metadata": {},
   "source": [
    "From the RF model feature importances, we get to see how much of a role aggregated features have played in prediction. Feature engineering has played a big part in the prediction process."
   ]
  }
 ],
 "metadata": {
  "kernelspec": {
   "display_name": "Python 3",
   "language": "python",
   "name": "python3"
  },
  "language_info": {
   "codemirror_mode": {
    "name": "ipython",
    "version": 3
   },
   "file_extension": ".py",
   "mimetype": "text/x-python",
   "name": "python",
   "nbconvert_exporter": "python",
   "pygments_lexer": "ipython3",
   "version": "3.6.5"
  }
 },
 "nbformat": 4,
 "nbformat_minor": 2
}
